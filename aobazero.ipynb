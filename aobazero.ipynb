{
  "nbformat": 4,
  "nbformat_minor": 0,
  "metadata": {
    "colab": {
      "name": "aobazero.ipynb",
      "version": "0.3.2",
      "provenance": [],
      "include_colab_link": true
    },
    "kernelspec": {
      "name": "python3",
      "display_name": "Python 3"
    },
    "accelerator": "GPU"
  },
  "cells": [
    {
      "cell_type": "markdown",
      "metadata": {
        "id": "view-in-github",
        "colab_type": "text"
      },
      "source": [
        "<a href=\"https://colab.research.google.com/github/kobanium/aobazero/blob/develop/aobazero.ipynb\" target=\"_parent\"><img src=\"https://colab.research.google.com/assets/colab-badge.svg\" alt=\"Open In Colab\"/></a>"
      ]
    },
    {
      "cell_type": "code",
      "metadata": {
        "id": "ge6JJ3Aetlpo",
        "colab_type": "code",
        "colab": {}
      },
      "source": [
        "%cd\n",
        "!git clone https://github.com/kobanium/aobazero.git\n",
        "%cd aobazero\n",
        "!make -j2\n",
        "!./bin/autousi"
      ],
      "execution_count": 0,
      "outputs": []
    }
  ]
}